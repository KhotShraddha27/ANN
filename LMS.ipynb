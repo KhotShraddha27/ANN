{
  "nbformat": 4,
  "nbformat_minor": 0,
  "metadata": {
    "colab": {
      "provenance": [],
      "authorship_tag": "ABX9TyPx/gGWFdbNwBZo/8NZiFc5",
      "include_colab_link": true
    },
    "kernelspec": {
      "name": "python3",
      "display_name": "Python 3"
    },
    "language_info": {
      "name": "python"
    }
  },
  "cells": [
    {
      "cell_type": "markdown",
      "metadata": {
        "id": "view-in-github",
        "colab_type": "text"
      },
      "source": [
        "<a href=\"https://colab.research.google.com/github/KhotShraddha27/ANN/blob/main/LMS.ipynb\" target=\"_parent\"><img src=\"https://colab.research.google.com/assets/colab-badge.svg\" alt=\"Open In Colab\"/></a>"
      ]
    },
    {
      "cell_type": "code",
      "execution_count": null,
      "metadata": {
        "id": "QcFIoGg5AVkY",
        "outputId": "0e4bc760-fd23-4182-cedb-ff93d299b3be",
        "colab": {
          "base_uri": "https://localhost:8080/"
        }
      },
      "outputs": [
        {
          "output_type": "stream",
          "name": "stdout",
          "text": [
            "Epoch 0, MSE: 46.6335424255862\n",
            "Epoch 10, MSE: 16.969865073563426\n",
            "Epoch 20, MSE: 6.1752749444598\n",
            "Epoch 30, MSE: 2.2471503506439783\n",
            "Epoch 40, MSE: 0.8177223755222875\n",
            "Epoch 50, MSE: 0.29756205322726714\n",
            "Epoch 60, MSE: 0.10827971950496022\n",
            "Epoch 70, MSE: 0.039401667649822836\n",
            "Epoch 80, MSE: 0.014337716431879952\n",
            "Epoch 90, MSE: 0.005217269463934321\n",
            "Epoch 100, MSE: 0.0018984730785491337\n",
            "Epoch 110, MSE: 0.0006908177817565331\n",
            "Epoch 120, MSE: 0.0002513740594331311\n",
            "Epoch 130, MSE: 9.146928648214001e-05\n",
            "Epoch 140, MSE: 3.3283424351009064e-05\n",
            "Epoch 150, MSE: 1.211096048470028e-05\n",
            "\n",
            "Final Weights:\n",
            " [[5.998024  ]\n",
            " [2.82744169]]\n",
            "\n",
            "Predictions:\n",
            "[[ 2.]\n",
            " [ 4.]\n",
            " [ 6.]\n",
            " [ 8.]\n",
            " [10.]]\n"
          ]
        }
      ],
      "source": [
        "#implement lms\n",
        "import numpy as np\n",
        "import pandas as pd\n",
        "import matplotlib.pyplot as plt\n",
        "\n",
        "X = np.array([[1],[2],[3],[4],[5]])\n",
        "Y = np.array([[2],[4],[6],[8],[10]])\n",
        "\n",
        "# Normalize features\n",
        "X = (X - np.mean(X)) / np.std(X)\n",
        "\n",
        "# Add bias term to X\n",
        "X = np.hstack((np.ones((X.shape[0], 1)), X))  # Shape: (n_samples, 2)\n",
        "\n",
        "w = np.random.randn(2, 1)  # Initialize weights randomly\n",
        "lr = 0.01\n",
        "epochs = 160\n",
        "\n",
        "for epoch in range(epochs):\n",
        "    for i in range(X.shape[0]):\n",
        "        xi = X[i].reshape(1, -1)  # Shape: (1, 2)\n",
        "        yi = Y[i].reshape(1, -1)  # Shape: (1, 1)\n",
        "\n",
        "        y_pred = np.dot(xi, w)  # Shape: (1, 1)\n",
        "\n",
        "        error = yi - y_pred  # Shape: (1, 1)\n",
        "\n",
        "        # gradient = -2 * xi.T.dot(error)  # Shape: (2, 1)\n",
        "\n",
        "        # w -= lr * gradient\n",
        "\n",
        "        w = w + lr * xi.T * error\n",
        "\n",
        "    if epoch % 10 == 0:\n",
        "        y_all_pred = np.dot(X, w)\n",
        "        mse = np.mean((Y - y_all_pred) ** 2)\n",
        "        print(f\"Epoch {epoch}, MSE: {mse}\")\n",
        "\n",
        "print(\"\\nFinal Weights:\\n\", w)\n",
        "print(\"\\nPredictions:\")\n",
        "predictions = np.dot(X, w)\n",
        "print(predictions.round(2))"
      ]
    }
  ]
}